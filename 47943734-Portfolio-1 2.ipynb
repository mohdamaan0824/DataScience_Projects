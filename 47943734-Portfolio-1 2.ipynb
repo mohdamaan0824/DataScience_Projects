{
 "cells": [
  {
   "cell_type": "markdown",
   "id": "skHfgkqlqndO",
   "metadata": {
    "id": "skHfgkqlqndO"
   },
   "source": [
    "## Analysis of a car sell record Dataset\n",
    "\n",
    "We have been provided with a car sell record dataset. In this dataset, we have thounds of car sell records.\n",
    "\n",
    "The structure of this dataset is represented in the header shown below.\n",
    "\n",
    "name\n",
    "year\n",
    "selling_price\n",
    "km_driven\n",
    "fuel\n",
    "seller_type\n",
    "transmission\n",
    "Owner\n",
    "\n",
    "| name | year | selling_price | km_driven| fuel | seller_type | transmission | Owner |\n",
    "\n",
    "    | ---- | ---- | ---- | ---- | ---- | ---- | ---- | ---- |   \n",
    "    \n",
    "#### Description of Fields\n",
    "\n",
    "* __name__ - detail car type of the sold car\n",
    "* __year__ - Year of the car when it was bought\n",
    "* __selling_price__ - Price at which the car is being sold\n",
    "* __km_driven__ - Number of Kilometres the car is driven\n",
    "* __fuel__ - Fuel type of car (petrol / diesel / CNG / LPG / electric)\n",
    "* __seller_type__ - Tells if a Seller is Individual or a Dealer\n",
    "* __transmission__ - Gear transmission of the car (Automatic/Manual)\n",
    "* __owner__ - Number of previous owners of the car.\n",
    "\n",
    "There are four questions to explore with the data as shown below.\n"
   ]
  },
  {
   "cell_type": "code",
   "execution_count": 2,
   "id": "zNTpU9ToS8QK",
   "metadata": {
    "id": "zNTpU9ToS8QK"
   },
   "outputs": [],
   "source": [
    "your_name = \"Mohd Amaan\"\n",
    "your_student_id = \"47943734\""
   ]
  },
  {
   "cell_type": "code",
   "execution_count": 3,
   "id": "giZ_rSg8ezK6",
   "metadata": {
    "colab": {
     "base_uri": "https://localhost:8080/"
    },
    "executionInfo": {
     "elapsed": 100002,
     "status": "ok",
     "timestamp": 1710290642987,
     "user": {
      "displayName": "Yuzhe Tian",
      "userId": "05567834028890049819"
     },
     "user_tz": -660
    },
    "id": "giZ_rSg8ezK6",
    "outputId": "5306c39c-4547-4a3c-a25a-b9bbef85cb8d"
   },
   "outputs": [],
   "source": [
    "# libraries you might need\n",
    "import pandas as pd\n",
    "import numpy as np\n",
    "import matplotlib.pyplot as plt\n",
    "import seaborn as sns\n",
    "%matplotlib inline\n",
    "import warnings\n",
    "warnings.simplefilter(action='ignore', category=FutureWarning)\n",
    "# if you are using google colab with google drive, you could read files from google drive with the following codes\n",
    "# from google.colab import drive\n",
    "# drive.mount('/content/drive')"
   ]
  },
  {
   "cell_type": "code",
   "execution_count": 4,
   "id": "3ad59c77-e10a-4935-8370-a4a71a003e27",
   "metadata": {},
   "outputs": [],
   "source": [
    "#Read data from csv file\n",
    "df = pd.read_csv('car_sell.csv')"
   ]
  },
  {
   "cell_type": "code",
   "execution_count": 5,
   "id": "0f296be1-8f96-43d6-b562-8e88be42f531",
   "metadata": {},
   "outputs": [
    {
     "data": {
      "text/html": [
       "<div>\n",
       "<style scoped>\n",
       "    .dataframe tbody tr th:only-of-type {\n",
       "        vertical-align: middle;\n",
       "    }\n",
       "\n",
       "    .dataframe tbody tr th {\n",
       "        vertical-align: top;\n",
       "    }\n",
       "\n",
       "    .dataframe thead th {\n",
       "        text-align: right;\n",
       "    }\n",
       "</style>\n",
       "<table border=\"1\" class=\"dataframe\">\n",
       "  <thead>\n",
       "    <tr style=\"text-align: right;\">\n",
       "      <th></th>\n",
       "      <th>Unnamed: 0</th>\n",
       "      <th>name</th>\n",
       "      <th>year</th>\n",
       "      <th>selling_price</th>\n",
       "      <th>km_driven</th>\n",
       "      <th>fuel</th>\n",
       "      <th>seller_type</th>\n",
       "      <th>transmission</th>\n",
       "      <th>owner</th>\n",
       "    </tr>\n",
       "  </thead>\n",
       "  <tbody>\n",
       "    <tr>\n",
       "      <th>0</th>\n",
       "      <td>0</td>\n",
       "      <td>Maruti 800 AC</td>\n",
       "      <td>2007.0</td>\n",
       "      <td>60000</td>\n",
       "      <td>70000</td>\n",
       "      <td>Petrol</td>\n",
       "      <td>Individual</td>\n",
       "      <td>Manual</td>\n",
       "      <td>First Owner</td>\n",
       "    </tr>\n",
       "    <tr>\n",
       "      <th>1</th>\n",
       "      <td>1</td>\n",
       "      <td>Maruti Wagon R LXI Minor</td>\n",
       "      <td>2007.0</td>\n",
       "      <td>135000</td>\n",
       "      <td>50000</td>\n",
       "      <td>Petrol</td>\n",
       "      <td>Individual</td>\n",
       "      <td>Manual</td>\n",
       "      <td>First Owner</td>\n",
       "    </tr>\n",
       "    <tr>\n",
       "      <th>2</th>\n",
       "      <td>2</td>\n",
       "      <td>Hyundai Verna 1.6 SX</td>\n",
       "      <td>2012.0</td>\n",
       "      <td>600000</td>\n",
       "      <td>100000</td>\n",
       "      <td>Diesel</td>\n",
       "      <td>Individual</td>\n",
       "      <td>Manual</td>\n",
       "      <td>First Owner</td>\n",
       "    </tr>\n",
       "    <tr>\n",
       "      <th>3</th>\n",
       "      <td>3</td>\n",
       "      <td>Datsun RediGO T Option</td>\n",
       "      <td>2017.0</td>\n",
       "      <td>250000</td>\n",
       "      <td>46000</td>\n",
       "      <td>Petrol</td>\n",
       "      <td>Individual</td>\n",
       "      <td>Manual</td>\n",
       "      <td>First Owner</td>\n",
       "    </tr>\n",
       "    <tr>\n",
       "      <th>4</th>\n",
       "      <td>4</td>\n",
       "      <td>Honda Amaze VX i-DTEC</td>\n",
       "      <td>2014.0</td>\n",
       "      <td>450000</td>\n",
       "      <td>141000</td>\n",
       "      <td>Diesel</td>\n",
       "      <td>Individual</td>\n",
       "      <td>Manual</td>\n",
       "      <td>Second Owner</td>\n",
       "    </tr>\n",
       "  </tbody>\n",
       "</table>\n",
       "</div>"
      ],
      "text/plain": [
       "   Unnamed: 0                      name    year  selling_price  km_driven  \\\n",
       "0           0             Maruti 800 AC  2007.0          60000      70000   \n",
       "1           1  Maruti Wagon R LXI Minor  2007.0         135000      50000   \n",
       "2           2      Hyundai Verna 1.6 SX  2012.0         600000     100000   \n",
       "3           3    Datsun RediGO T Option  2017.0         250000      46000   \n",
       "4           4     Honda Amaze VX i-DTEC  2014.0         450000     141000   \n",
       "\n",
       "     fuel seller_type transmission         owner  \n",
       "0  Petrol  Individual       Manual   First Owner  \n",
       "1  Petrol  Individual       Manual   First Owner  \n",
       "2  Diesel  Individual       Manual   First Owner  \n",
       "3  Petrol  Individual       Manual   First Owner  \n",
       "4  Diesel  Individual       Manual  Second Owner  "
      ]
     },
     "execution_count": 5,
     "metadata": {},
     "output_type": "execute_result"
    }
   ],
   "source": [
    "#displaying top 5 records in the dataframe using head()\n",
    "df.head()"
   ]
  },
  {
   "cell_type": "markdown",
   "id": "-tb7B7VTqndQ",
   "metadata": {
    "id": "-tb7B7VTqndQ"
   },
   "source": [
    " ## Q1. Remove missing data\n",
    "\n",
    "Please remove the records that match ANY of the below two conditions in the csv file:\n",
    "\n",
    " * year is missing\n",
    " * fuel is 'none'\n",
    "\n",
    "__Display the DataFrame, counting number of Null values in each column, and print the length of the data__ before and after removing the missing data.  "
   ]
  },
  {
   "cell_type": "code",
   "execution_count": 7,
   "id": "b72e814e-78ab-475f-82d4-0e428ac2bc61",
   "metadata": {},
   "outputs": [
    {
     "data": {
      "text/plain": [
       "Unnamed: 0         0\n",
       "name               0\n",
       "year             310\n",
       "selling_price      0\n",
       "km_driven          0\n",
       "fuel               0\n",
       "seller_type        0\n",
       "transmission       0\n",
       "owner              0\n",
       "dtype: int64"
      ]
     },
     "execution_count": 7,
     "metadata": {},
     "output_type": "execute_result"
    }
   ],
   "source": [
    "#Checking if there is any null values using isnull function\n",
    "df.isnull().sum()"
   ]
  },
  {
   "cell_type": "code",
   "execution_count": 8,
   "id": "5f4dddc5-2201-4a2c-8fee-95004e49baa4",
   "metadata": {},
   "outputs": [],
   "source": [
    "#Dropping the null values from year column using dropna\n",
    "df_cleaned = df.dropna()\n"
   ]
  },
  {
   "cell_type": "code",
   "execution_count": 9,
   "id": "6c1fe7c0-09e3-496e-a3e4-d2058d0c181d",
   "metadata": {},
   "outputs": [],
   "source": [
    "#Removing the records from fuel column having the value as none\n",
    "df_cleaned= df_cleaned.drop(df_cleaned.index[df_cleaned.fuel == 'none'])"
   ]
  },
  {
   "cell_type": "code",
   "execution_count": 10,
   "id": "21acafee-1b12-4f9b-b654-efae8264ec85",
   "metadata": {},
   "outputs": [
    {
     "data": {
      "text/plain": [
       "Unnamed: 0       0\n",
       "name             0\n",
       "year             0\n",
       "selling_price    0\n",
       "km_driven        0\n",
       "fuel             0\n",
       "seller_type      0\n",
       "transmission     0\n",
       "owner            0\n",
       "dtype: int64"
      ]
     },
     "execution_count": 10,
     "metadata": {},
     "output_type": "execute_result"
    }
   ],
   "source": [
    "# Re-checking if there are any null values exising\n",
    "df_cleaned.isnull().sum()"
   ]
  },
  {
   "cell_type": "raw",
   "id": "ffe19b5c-1e10-4243-b517-ae2085dbe0b7",
   "metadata": {},
   "source": [
    "## After this point, we have removed all the null values and none values in the fuel column"
   ]
  },
  {
   "cell_type": "markdown",
   "id": "af4bbea1-c718-4410-8ad7-3c96c398442a",
   "metadata": {
    "id": "EJG9_LEmqndR"
   },
   "source": [
    "## Q2. Descriptive statistics\n",
    "\n",
    "With the cleaned data in Q1, please provide the data summarization as below:\n",
    "\n",
    "* Q2.1 total number of unique name, unique seller_type, unique transmission, and unique owner\n",
    "* Q2.2 descriptive statistics, including the total number, mean, std, min and max regarding all km_driven\n",
    "* Q2.3 descriptive statistics, including mean, std, max, and min of the number of selling_price grouped by different seller_type\n",
    "* Q2.4 descriptive statistics, including mean, std, max, min of the number of years that sold by each owner type\n"
   ]
  },
  {
   "cell_type": "code",
   "execution_count": 12,
   "id": "3c3b5e88-ea07-4d4c-bd8f-9b8d8c64d026",
   "metadata": {},
   "outputs": [
    {
     "name": "stdout",
     "output_type": "stream",
     "text": [
      "Total number of unique names:  1402\n",
      "Total number of unique seller type:  3\n",
      "Total number of unique transmission:  2\n",
      "Total number of unique owner:  5\n"
     ]
    }
   ],
   "source": [
    "##Q2.1 total number of unique name, unique seller_type, unique transmission, and unique owner\n",
    "\n",
    "##1. total number of unique name using unique\n",
    "unique_name = df_cleaned.name.unique()\n",
    "print(\"Total number of unique names: \" , len(unique_name))\n",
    "\n",
    "##2. total number of unique seller_type\n",
    "unique_seller_type = df_cleaned.seller_type.unique()\n",
    "print(\"Total number of unique seller type: \" , len(unique_seller_type))\n",
    "\n",
    "##3.total number of unique transmission\n",
    "unique_transmission = df_cleaned.transmission.unique()\n",
    "print(\"Total number of unique transmission: \" , len(unique_transmission))\n",
    "\n",
    "##4.total number of unique owner\n",
    "unique_owner = df_cleaned.owner.unique()\n",
    "print(\"Total number of unique owner: \" , len(unique_owner))"
   ]
  },
  {
   "cell_type": "code",
   "execution_count": 13,
   "id": "2fa62f27-dcf3-485f-b70c-e5b1e12a5248",
   "metadata": {},
   "outputs": [
    {
     "name": "stdout",
     "output_type": "stream",
     "text": [
      "the descriptive statistics of km_driven            Unnamed: 0                                                     \\\n",
      "               count         mean          std     min      25%     50%   \n",
      "km_driven                                                                 \n",
      "1                1.0  1312.000000          NaN  1312.0  1312.00  1312.0   \n",
      "101              3.0  1715.000000     1.000000  1714.0  1714.50  1715.0   \n",
      "1000            13.0  1889.615385  1191.792665   552.0   897.00  2154.0   \n",
      "1001             2.0  1493.500000   577.706240  1085.0  1289.25  1493.5   \n",
      "1010             6.0  1777.333333     2.581989  1774.0  1775.50  1777.5   \n",
      "...              ...          ...          ...     ...      ...     ...   \n",
      "347089           1.0  3718.000000          NaN  3718.0  3718.00  3718.0   \n",
      "350000           2.0  1231.500000  1644.023266    69.0   650.25  1231.5   \n",
      "400000           1.0  3679.000000          NaN  3679.0  3679.00  3679.0   \n",
      "560000           2.0  2354.500000  2587.303712   525.0  1439.75  2354.5   \n",
      "806599           1.0  1243.000000          NaN  1243.0  1243.00  1243.0   \n",
      "\n",
      "                            year          ...                  selling_price  \\\n",
      "               75%     max count    mean  ...      75%     max         count   \n",
      "km_driven                                 ...                                  \n",
      "1          1312.00  1312.0   1.0  2014.0  ...  2014.00  2014.0           1.0   \n",
      "101        1715.50  1716.0   3.0  2020.0  ...  2020.00  2020.0           3.0   \n",
      "1000       2521.00  4105.0  13.0  2015.0  ...  2018.00  2020.0          13.0   \n",
      "1001       1697.75  1902.0   2.0  2012.5  ...  2015.75  2019.0           2.0   \n",
      "1010       1778.75  1781.0   6.0  2020.0  ...  2020.00  2020.0           6.0   \n",
      "...            ...     ...   ...     ...  ...      ...     ...           ...   \n",
      "347089     3718.00  3718.0   1.0  2009.0  ...  2009.00  2009.0           1.0   \n",
      "350000     1812.75  2394.0   2.0  2009.5  ...  2009.75  2010.0           2.0   \n",
      "400000     3679.00  3679.0   1.0  2006.0  ...  2006.00  2006.0           1.0   \n",
      "560000     3269.25  4184.0   2.0  2016.0  ...  2016.00  2016.0           2.0   \n",
      "806599     1243.00  1243.0   1.0  2009.0  ...  2009.00  2009.0           1.0   \n",
      "\n",
      "                                                                        \\\n",
      "                    mean            std       min        25%       50%   \n",
      "km_driven                                                                \n",
      "1          250000.000000            NaN  250000.0  250000.00  250000.0   \n",
      "101        806333.333333  183522.024110  635000.0  709500.00  784000.0   \n",
      "1000       520538.461538  208421.294251  350000.0  450000.00  450000.0   \n",
      "1001       662500.000000  123743.686708  575000.0  618750.00  662500.0   \n",
      "1010       995999.666667  206402.859477  811999.0  834749.25  941000.0   \n",
      "...                  ...            ...       ...        ...       ...   \n",
      "347089     420000.000000            NaN  420000.0  420000.00  420000.0   \n",
      "350000     315000.000000   49497.474683  280000.0  297500.00  315000.0   \n",
      "400000     400000.000000            NaN  400000.0  400000.00  400000.0   \n",
      "560000     665000.000000       0.000000  665000.0  665000.00  665000.0   \n",
      "806599     250000.000000            NaN  250000.0  250000.00  250000.0   \n",
      "\n",
      "                                 \n",
      "                 75%        max  \n",
      "km_driven                        \n",
      "1           250000.0   250000.0  \n",
      "101         892000.0  1000000.0  \n",
      "1000        450000.0  1100000.0  \n",
      "1001        706250.0   750000.0  \n",
      "1010       1096750.0  1334000.0  \n",
      "...              ...        ...  \n",
      "347089      420000.0   420000.0  \n",
      "350000      332500.0   350000.0  \n",
      "400000      400000.0   400000.0  \n",
      "560000      665000.0   665000.0  \n",
      "806599      250000.0   250000.0  \n",
      "\n",
      "[715 rows x 24 columns]\n"
     ]
    }
   ],
   "source": [
    "#Q2.2 descriptive statistics, including the total number, mean, std, min and max regarding all km_driven\n",
    "## .describe() function is used to find all the statistical values\n",
    "\n",
    "km_driven=df_cleaned.groupby('km_driven')\n",
    "print(\"the descriptive statistics of km_driven \" , km_driven.describe())\n"
   ]
  },
  {
   "cell_type": "code",
   "execution_count": 14,
   "id": "257e32e0-d18c-4b40-863f-d159a6d41ad6",
   "metadata": {},
   "outputs": [
    {
     "name": "stdout",
     "output_type": "stream",
     "text": [
      "the descriptive statistics of seller_type \n",
      "                           mean            std      max     min\n",
      "seller_type                                                    \n",
      "Dealer            702093.314961  813597.811832  8900000   22000\n",
      "Individual        421169.410265  420273.684129  4800000   20000\n",
      "Trustmark Dealer  935797.872340  655724.299195  2600000  315000\n"
     ]
    }
   ],
   "source": [
    "# Q2.3 descriptive statistics, including mean, std, max, and min of the number of selling_price grouped by different seller_type\n",
    "#Using groupby method to perform groupby operation on seller_type\n",
    "\n",
    "seller_type=df_cleaned.groupby('seller_type')['selling_price']\n",
    "print(\"the descriptive statistics of seller_type \")\n",
    "print(seller_type.agg(['mean', 'std', 'max', 'min']))\n"
   ]
  },
  {
   "cell_type": "code",
   "execution_count": 15,
   "id": "840561a3-fc50-40cf-aadc-59b0d5512cdb",
   "metadata": {},
   "outputs": [
    {
     "name": "stdout",
     "output_type": "stream",
     "text": [
      "the descriptive statistics of owner                      Unnamed: 0                                             \\\n",
      "                          count         mean          std     min      25%   \n",
      "owner                                                                        \n",
      "First Owner              2532.0  2155.984597  1273.098958     0.0  1001.75   \n",
      "Fourth & Above Owner       67.0  2093.656716  1240.520841    42.0  1140.00   \n",
      "Second Owner             1000.0  2209.808000  1231.520691     4.0  1243.25   \n",
      "Test Drive Car             14.0  1979.714286   518.561832  1714.0  1774.25   \n",
      "Third Owner               273.0  2235.428571  1225.479484    44.0  1297.00   \n",
      "\n",
      "                                                 year               ...  \\\n",
      "                         50%      75%     max   count         mean  ...   \n",
      "owner                                                               ...   \n",
      "First Owner           2165.5  3278.25  4339.0  2532.0  2014.453791  ...   \n",
      "Fourth & Above Owner  1814.0  3112.50  4132.0    67.0  2007.238806  ...   \n",
      "Second Owner          2208.0  3252.25  4337.0  1000.0  2010.977000  ...   \n",
      "Test Drive Car        1777.5  1791.50  3615.0    14.0  2019.642857  ...   \n",
      "Third Owner           2162.0  3232.00  4331.0   273.0  2009.413919  ...   \n",
      "\n",
      "                     selling_price            km_driven                \\\n",
      "                               75%        max     count          mean   \n",
      "owner                                                                   \n",
      "First Owner               680000.0  8900000.0    2532.0  56150.896524   \n",
      "Fourth & Above Owner      234999.5   700000.0      67.0  96764.850746   \n",
      "Second Owner              430000.0  4400000.0    1000.0  81703.478000   \n",
      "Test Drive Car           1114250.0  1350000.0      14.0   3145.714286   \n",
      "Third Owner               330000.0  2300000.0     273.0  99958.131868   \n",
      "\n",
      "                                                                          \\\n",
      "                               std      min      25%      50%        75%   \n",
      "owner                                                                      \n",
      "First Owner           44865.363835   1000.0  26500.0  50000.0   73087.50   \n",
      "Fourth & Above Owner  38146.710659   1100.0  71500.0  92645.0  110000.00   \n",
      "Second Owner          40667.806237      1.0  55791.5  80000.0  100000.00   \n",
      "Test Drive Car         4495.260948    101.0   1010.0   1010.0    4152.25   \n",
      "Third Owner           50614.502098  15000.0  70000.0  90000.0  120000.00   \n",
      "\n",
      "                                \n",
      "                           max  \n",
      "owner                           \n",
      "First Owner           806599.0  \n",
      "Fourth & Above Owner  200000.0  \n",
      "Second Owner          350000.0  \n",
      "Test Drive Car         13000.0  \n",
      "Third Owner           400000.0  \n",
      "\n",
      "[5 rows x 32 columns]\n"
     ]
    }
   ],
   "source": [
    "# Q2.4 descriptive statistics, including mean, std, max, min of the number of years that sold by each owner type\n",
    "#Using groupby method to perform groupby operation on owner\n",
    "owner = df_cleaned.groupby('owner')\n",
    "print(\"the descriptive statistics of owner\" , owner.describe())\n",
    "\n"
   ]
  },
  {
   "cell_type": "markdown",
   "id": "PISggxe5qndR",
   "metadata": {
    "id": "PISggxe5qndR"
   },
   "source": [
    "## Q3. Plotting and Analysis\n",
    "\n",
    "Please try to explore the correlation between fuel/year/seller_type/transmission/owner and selling_price; for instance, do First Owner cars tend to sell higher prices than second owner cars? Hint: you may use the boxplot function to plot figures for comparison\n",
    "    \n",
    "You may need to select the most suitable graphic forms for ease of presentation. Most importantly, for each figure or subfigure, please summarise ___what each plot shows___ (i.e. observations and explanations). Finally, you are required to provide an overall summary of your findings from the plots you generated."
   ]
  },
  {
   "cell_type": "code",
   "execution_count": 17,
   "id": "936ac83d-903d-46ea-8c47-d3da5d71d09c",
   "metadata": {},
   "outputs": [
    {
     "data": {
      "text/html": [
       "<div>\n",
       "<style scoped>\n",
       "    .dataframe tbody tr th:only-of-type {\n",
       "        vertical-align: middle;\n",
       "    }\n",
       "\n",
       "    .dataframe tbody tr th {\n",
       "        vertical-align: top;\n",
       "    }\n",
       "\n",
       "    .dataframe thead th {\n",
       "        text-align: right;\n",
       "    }\n",
       "</style>\n",
       "<table border=\"1\" class=\"dataframe\">\n",
       "  <thead>\n",
       "    <tr style=\"text-align: right;\">\n",
       "      <th></th>\n",
       "      <th>Unnamed: 0</th>\n",
       "      <th>name</th>\n",
       "      <th>year</th>\n",
       "      <th>selling_price</th>\n",
       "      <th>km_driven</th>\n",
       "      <th>fuel</th>\n",
       "      <th>seller_type</th>\n",
       "      <th>transmission</th>\n",
       "      <th>owner</th>\n",
       "    </tr>\n",
       "  </thead>\n",
       "  <tbody>\n",
       "    <tr>\n",
       "      <th>0</th>\n",
       "      <td>0</td>\n",
       "      <td>Maruti 800 AC</td>\n",
       "      <td>2007.0</td>\n",
       "      <td>60000</td>\n",
       "      <td>70000</td>\n",
       "      <td>Petrol</td>\n",
       "      <td>Individual</td>\n",
       "      <td>Manual</td>\n",
       "      <td>First Owner</td>\n",
       "    </tr>\n",
       "    <tr>\n",
       "      <th>1</th>\n",
       "      <td>1</td>\n",
       "      <td>Maruti Wagon R LXI Minor</td>\n",
       "      <td>2007.0</td>\n",
       "      <td>135000</td>\n",
       "      <td>50000</td>\n",
       "      <td>Petrol</td>\n",
       "      <td>Individual</td>\n",
       "      <td>Manual</td>\n",
       "      <td>First Owner</td>\n",
       "    </tr>\n",
       "    <tr>\n",
       "      <th>2</th>\n",
       "      <td>2</td>\n",
       "      <td>Hyundai Verna 1.6 SX</td>\n",
       "      <td>2012.0</td>\n",
       "      <td>600000</td>\n",
       "      <td>100000</td>\n",
       "      <td>Diesel</td>\n",
       "      <td>Individual</td>\n",
       "      <td>Manual</td>\n",
       "      <td>First Owner</td>\n",
       "    </tr>\n",
       "    <tr>\n",
       "      <th>3</th>\n",
       "      <td>3</td>\n",
       "      <td>Datsun RediGO T Option</td>\n",
       "      <td>2017.0</td>\n",
       "      <td>250000</td>\n",
       "      <td>46000</td>\n",
       "      <td>Petrol</td>\n",
       "      <td>Individual</td>\n",
       "      <td>Manual</td>\n",
       "      <td>First Owner</td>\n",
       "    </tr>\n",
       "    <tr>\n",
       "      <th>4</th>\n",
       "      <td>4</td>\n",
       "      <td>Honda Amaze VX i-DTEC</td>\n",
       "      <td>2014.0</td>\n",
       "      <td>450000</td>\n",
       "      <td>141000</td>\n",
       "      <td>Diesel</td>\n",
       "      <td>Individual</td>\n",
       "      <td>Manual</td>\n",
       "      <td>Second Owner</td>\n",
       "    </tr>\n",
       "  </tbody>\n",
       "</table>\n",
       "</div>"
      ],
      "text/plain": [
       "   Unnamed: 0                      name    year  selling_price  km_driven  \\\n",
       "0           0             Maruti 800 AC  2007.0          60000      70000   \n",
       "1           1  Maruti Wagon R LXI Minor  2007.0         135000      50000   \n",
       "2           2      Hyundai Verna 1.6 SX  2012.0         600000     100000   \n",
       "3           3    Datsun RediGO T Option  2017.0         250000      46000   \n",
       "4           4     Honda Amaze VX i-DTEC  2014.0         450000     141000   \n",
       "\n",
       "     fuel seller_type transmission         owner  \n",
       "0  Petrol  Individual       Manual   First Owner  \n",
       "1  Petrol  Individual       Manual   First Owner  \n",
       "2  Diesel  Individual       Manual   First Owner  \n",
       "3  Petrol  Individual       Manual   First Owner  \n",
       "4  Diesel  Individual       Manual  Second Owner  "
      ]
     },
     "execution_count": 17,
     "metadata": {},
     "output_type": "execute_result"
    }
   ],
   "source": [
    "df_cleaned.head()"
   ]
  },
  {
   "cell_type": "code",
   "execution_count": 18,
   "id": "994f4c40-082d-4474-96e5-919404a6e76d",
   "metadata": {},
   "outputs": [
    {
     "data": {
      "text/plain": [
       "Text(0.5, 1.0, 'Boxplot grouped by fuel & selling_price')"
      ]
     },
     "execution_count": 18,
     "metadata": {},
     "output_type": "execute_result"
    },
    {
     "data": {
      "image/png": "[encoded data removed]",
      "text/plain": [
       "<Figure size 640x480 with 1 Axes>"
      ]
     },
     "metadata": {},
     "output_type": "display_data"
    }
   ],
   "source": [
    "# Q3 -> correlation between fuel and selling_price \n",
    "my_colors = {'Petrol': 'purple', 'Diesel': 'blue', 'CNG': 'red', 'LPG':'grey','Electric':'green'}\n",
    "sns.boxplot(x='fuel', y='selling_price', data=df_cleaned,  palette=my_colors)\n",
    "plt.title(\"Boxplot grouped by fuel & selling_price\")"
   ]
  },
  {
   "cell_type": "raw",
   "id": "99ce065c-558a-4e70-8b1f-a309f675f94e",
   "metadata": {},
   "source": [
    "Observations from the above graph:\n",
    "1. When compared to other fuel types, diesel automobiles have the greatest selling price on average and the median price is the highest.\n",
    "2. Although the median price of petrol automobiles is lower than that of diesel cars, they continue to have an extensive array of selling prices. There are a few anomalies, yet, pointing to some expensive gasoline-powered vehicles.\n",
    "3.Compared to gasoline and diesel vehicles, CNG vehicles have a lower median selling price and a narrower spectrum of prices with fewer cost-prohibitive outliers.\n",
    "4.The lowest median selling prices are found in electric and LPG vehicles. Since electric cars have a less valuable proportion of the market and no noteworthy outliers, their retail cost is more consistent. On the other hand, LPG automobiles, in particular, have a fairly narrow price range with few outliers."
   ]
  },
  {
   "cell_type": "code",
   "execution_count": 19,
   "id": "c922436d-8307-4588-b472-6a7ffdeba1c6",
   "metadata": {},
   "outputs": [
    {
     "data": {
      "text/plain": [
       "Text(0.5, 1.0, 'Boxplot grouped by transmission & selling price')"
      ]
     },
     "execution_count": 19,
     "metadata": {},
     "output_type": "execute_result"
    },
    {
     "data": {
      "image/png": "[encoded data removed]",
      "text/plain": [
       "<Figure size 640x480 with 1 Axes>"
      ]
     },
     "metadata": {},
     "output_type": "display_data"
    }
   ],
   "source": [
    "# Q3 -> correlation between transmission and selling price \n",
    "my_colors = {'Manual':'red' , 'Automatic':'blue'}\n",
    "sns.boxplot(x='transmission', y='year', data=df_cleaned,  palette=my_colors)\n",
    "plt.title(\"Boxplot grouped by transmission & selling price\")"
   ]
  },
  {
   "cell_type": "raw",
   "id": "e29b3484-5baf-4835-80e4-9d1dc3c177ec",
   "metadata": {},
   "source": [
    "From the above graph, we get the following observations:\n",
    "1. Compared to cars with automatic transmissions, cars with manual transmissions have a little older median manufacturing year.\n",
    "2. In manual automobiles, the median value is around 2011, whereas in automatic cars, it is closer to 2012.\n",
    "3. Automobiles featuring automatic transmissions frequently arrive possibly a bit newer than those equipped with manual transmissions."
   ]
  },
  {
   "cell_type": "code",
   "execution_count": 20,
   "id": "b8d54e1d-fd17-4e9d-a8c8-ed22d98097bb",
   "metadata": {},
   "outputs": [
    {
     "data": {
      "text/plain": [
       "Text(0.5, 1.0, 'Boxplot grouped by transmission & selling price')"
      ]
     },
     "execution_count": 20,
     "metadata": {},
     "output_type": "execute_result"
    },
    {
     "data": {
      "image/png": "[encoded data removed]",
      "text/plain": [
       "<Figure size 640x480 with 1 Axes>"
      ]
     },
     "metadata": {},
     "output_type": "display_data"
    }
   ],
   "source": [
    "# correlation between transmission and selling price\n",
    "my_colors = {'Manual':'red' , 'Automatic':'grey'}\n",
    "sns.boxplot(x='transmission', y='selling_price', data=df_cleaned, palette = my_colors)\n",
    "\n",
    "plt.title(\"Boxplot grouped by transmission & selling price\")"
   ]
  },
  {
   "cell_type": "raw",
   "id": "b58ccde4-a831-43bd-9427-04ab4792a2ad",
   "metadata": {},
   "source": [
    "Observations from above graph:\n",
    "1. Automobiles with automatic transmissions typically fetch a higher price at auction than those with manual transmissions.\n",
    "2. Automatic cars have a far higher median price, which suggests that their average cost is higher.\n",
    "3. Automatic transmission cars are more expensive and have more variance in price, which indicates that they are typically connected with newer or higher-end models that may have more effective technology and more features.\n",
    "4. Economical consumers or those seeking more straightforward, conventional cars may find manual transmission cars more appealing due to their more affordable and stable cost."
   ]
  },
  {
   "cell_type": "code",
   "execution_count": 21,
   "id": "66ee8917-e5c3-4e04-af30-7176db9a4ecc",
   "metadata": {},
   "outputs": [
    {
     "data": {
      "text/plain": [
       "Text(0.5, 1.0, 'Boxplot grouped by owner & selling price')"
      ]
     },
     "execution_count": 21,
     "metadata": {},
     "output_type": "execute_result"
    },
    {
     "data": {
      "image/png": "[encoded data removed]",
      "text/plain": [
       "<Figure size 800x600 with 1 Axes>"
      ]
     },
     "metadata": {},
     "output_type": "display_data"
    }
   ],
   "source": [
    "## Q3 -> correlation between owner and selling price \n",
    "my_colors = {'First Owner': 'purple', 'Second Owner': 'blue', 'Fourth & Above Owner': 'red', 'Third Owner':'grey','Test Drive Car':'green'}\n",
    "plt.figure(figsize=(8,6))\n",
    "sns.boxplot(x='owner', y='selling_price', data=df_cleaned, palette = my_colors)\n",
    "import matplotlib.ticker as mtick\n",
    "plt.gca().yaxis.set_major_formatter(mtick.StrMethodFormatter('{x:,.0f}'))\n",
    "plt.title(\"Boxplot grouped by owner & selling price\")"
   ]
  },
  {
   "cell_type": "raw",
   "id": "08e387fb-fd21-4020-aa84-a433b18b9160",
   "metadata": {},
   "source": [
    "From the above graph, we can get the following observations:\n",
    "1. The First Owned car is costlier than that of fourth and above owned cars.\n",
    "2. While the cars which are used by more than one owner has comparatively lower selling price."
   ]
  },
  {
   "cell_type": "markdown",
   "id": "TxD3SLxRqndR",
   "metadata": {
    "id": "TxD3SLxRqndR"
   },
   "source": [
    "## Q4. Detect and remove outliers\n",
    "\n",
    "We define car sale records WITHOUT following ANY of the below three rules as outliers:\n",
    "\n",
    "1. owner to be first, second and third owner only\n",
    "2. Fuel to be Diesel or Petrol only\n",
    "3. Seller_type to be dealer or individual only\n",
    "\n",
    "Please remove the corresponding records in the csv file that is not qualified with the rules. After that, __print the length of the data__."
   ]
  },
  {
   "cell_type": "code",
   "execution_count": 23,
   "id": "8854be6f-0ea2-41ec-9751-4a9c651904ac",
   "metadata": {},
   "outputs": [
    {
     "name": "stdout",
     "output_type": "stream",
     "text": [
      "After removing the outliers the length is: 3805\n"
     ]
    }
   ],
   "source": [
    "##Remove outliers:\n",
    "## 1.owner to be first, second and third owner only\n",
    "remove_outliers_df = df_cleaned.drop(df_cleaned.index[(df_cleaned.owner=='Fourth & Above Owner')] ) #--> helpfulness is removed \n",
    "remove_outliers_df = remove_outliers_df.drop(remove_outliers_df.index[(remove_outliers_df.owner=='Test Drive Car')] )\n",
    "\n",
    "print(\"After removing the outliers the length is:\",len(remove_outliers_df))\n",
    "\n"
   ]
  },
  {
   "cell_type": "code",
   "execution_count": 24,
   "id": "cf578c93-7c36-46cb-bc14-1e0d19513c19",
   "metadata": {},
   "outputs": [
    {
     "name": "stdout",
     "output_type": "stream",
     "text": [
      "After removing the outliers the length is: 3751\n"
     ]
    }
   ],
   "source": [
    "##2.Fuel to be Diesel or Petrol only\n",
    "\n",
    "remove_outliers_df = remove_outliers_df.drop(remove_outliers_df.index[(remove_outliers_df.fuel=='CNG')] )\n",
    "remove_outliers_df = remove_outliers_df.drop(remove_outliers_df.index[(remove_outliers_df.fuel=='LPG')] )\n",
    "remove_outliers_df = remove_outliers_df.drop(remove_outliers_df.index[(remove_outliers_df.fuel=='Electric')] )\n",
    "\n",
    "print(\"After removing the outliers the length is:\",len(remove_outliers_df))\n"
   ]
  },
  {
   "cell_type": "code",
   "execution_count": 25,
   "id": "5f28e2c8-fbc1-4537-8974-593fe9bfb4a2",
   "metadata": {},
   "outputs": [
    {
     "name": "stdout",
     "output_type": "stream",
     "text": [
      "After removing the outliers, the length is: 3657\n"
     ]
    }
   ],
   "source": [
    "## 3. Seller_type to be dealer or individual only\n",
    "remove_outliers_df = remove_outliers_df.drop(remove_outliers_df.index[(remove_outliers_df.seller_type=='Trustmark Dealer')] )\n",
    "print(\"After removing the outliers, the length is:\",len(remove_outliers_df))\n",
    "\n"
   ]
  }
 ],
 "metadata": {
  "colab": {
   "provenance": []
  },
  "kernelspec": {
   "display_name": "Python 3 (ipykernel)",
   "language": "python",
   "name": "python3"
  },
  "language_info": {
   "codemirror_mode": {
    "name": "ipython",
    "version": 3
   },
   "file_extension": ".py",
   "mimetype": "text/x-python",
   "name": "python",
   "nbconvert_exporter": "python",
   "pygments_lexer": "ipython3",
   "version": "3.12.4"
  }
 },
 "nbformat": 4,
 "nbformat_minor": 5
}
