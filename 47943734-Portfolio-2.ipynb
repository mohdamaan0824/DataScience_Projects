{
 "cells": [
  {
   "cell_type": "markdown",
   "id": "rSF_UH-XklO4",
   "metadata": {
    "id": "rSF_UH-XklO4"
   },
   "source": [
    "## Analysis of a Car Sell Dataset Part 2"
   ]
  },
  {
   "cell_type": "markdown",
   "id": "aWJHrXuwklO5",
   "metadata": {
    "id": "aWJHrXuwklO5"
   },
   "source": [
    "There are two goals in the second analysis task: (1), train linear regression models to predict the selling prices of cars; (2) assess the data ethics issues. There are *7* questions in this portfolio. \n",
    "\n",
    "The first goal involves a standard Data Science workflow: exploring data, building models, making predictions, and evaluating results. In this task, we will explore the impacts of feature selections and different sizes of training/testing data on the model performance. We will use another cleaned car_sells sub-dataset that **is different from** the one in “Analysis of a Car Sell Dataset” task 1. This goal covers Questions *1-6*. \n",
    "\n",
    "Question *7* is about data ethics issue."
   ]
  },
  {
   "cell_type": "code",
   "execution_count": 154,
   "id": "f2b11c57",
   "metadata": {},
   "outputs": [],
   "source": [
    "your_name = \"MOHD AMAAN\"\n",
    "your_student_id = \"47943734\""
   ]
  },
  {
   "cell_type": "code",
   "execution_count": 155,
   "id": "0e327626",
   "metadata": {},
   "outputs": [],
   "source": [
    "import pandas as pd\n",
    "import numpy as np\n",
    "from sklearn.model_selection import train_test_split\n",
    "from sklearn import linear_model\n",
    "from sklearn.metrics import r2_score\n",
    "\n",
    "import seaborn as sns\n",
    "import matplotlib.pylab as plt\n",
    "%matplotlib inline\n",
    "from sklearn.model_selection import train_test_split\n",
    "from sklearn import linear_model\n",
    "from sklearn.metrics import r2_score, mean_squared_error"
   ]
  },
  {
   "cell_type": "markdown",
   "id": "0g4OhHHzklO6",
   "metadata": {
    "id": "0g4OhHHzklO6"
   },
   "source": [
    "### Q1: Import Cleaned Car Sell Dataset\n",
    "The csv file named 'car_sells_clean_data.csv' is provided. You may need to use the Pandas method, i.e., `read_csv`, for reading it. After that, please print out its total length."
   ]
  },
  {
   "cell_type": "code",
   "execution_count": 157,
   "id": "9ki1LBees70W",
   "metadata": {
    "colab": {
     "base_uri": "https://localhost:8080/"
    },
    "id": "9ki1LBees70W",
    "outputId": "d3ff4349-47d0-423b-ef22-caf78c9883f5"
   },
   "outputs": [],
   "source": [
    "# Reading the data using read_csv method\n",
    "\n",
    "cars_df = pd.read_csv('car_sells_clean_data.csv')\n"
   ]
  },
  {
   "cell_type": "code",
   "execution_count": 158,
   "id": "330263f8-0de2-4e7a-8b53-2d1d35021955",
   "metadata": {},
   "outputs": [
    {
     "name": "stdout",
     "output_type": "stream",
     "text": [
      "The total number of records in the dataset are :  3657\n"
     ]
    }
   ],
   "source": [
    "# Printing the total number of records in the dataset\n",
    "print(\"The total number of records in the dataset are : \", len(cars_df))"
   ]
  },
  {
   "cell_type": "markdown",
   "id": "RpXf1q3UklO7",
   "metadata": {
    "id": "RpXf1q3UklO7"
   },
   "source": [
    "### Q2: Explore the Dataset\n",
    "\n",
    "* Use the methods, i.e., `head()` and `info()`, to have a rough picture about the data, e.g., how many columns, and the data types of each column.\n",
    "* As our goal is to predict cars' selling prices given other columns, please get the correlations between year/km_driven/seller_type/fuel/owner and selling_price by using the `corr()` method.\n",
    "* To get the correlations between different features, you may need to first convert the categorical features (i.e., seller_type and owner) into numerial values. For doing this, you may need to import `OrdinalEncoder` from `sklearn.preprocessing` (refer to the useful exmaples [here](https://pbpython.com/categorical-encoding.html))\n",
    "* Please provide ___necessary explanations/analysis___ on the correlations, and figure out which are the ___most___ and ___least___ corrleated features regarding selling_price. Try to ___discuss___ how the correlation will affect the final prediction results, if we use these features to train a regression model for selling_price prediction. In what follows, we will conduct experiments to verify your hypothesis."
   ]
  },
  {
   "cell_type": "code",
   "execution_count": 160,
   "id": "7551c655",
   "metadata": {},
   "outputs": [
    {
     "name": "stdout",
     "output_type": "stream",
     "text": [
      "Printing the first five rows of the dataset :\n"
     ]
    },
    {
     "data": {
      "text/html": [
       "<div>\n",
       "<style scoped>\n",
       "    .dataframe tbody tr th:only-of-type {\n",
       "        vertical-align: middle;\n",
       "    }\n",
       "\n",
       "    .dataframe tbody tr th {\n",
       "        vertical-align: top;\n",
       "    }\n",
       "\n",
       "    .dataframe thead th {\n",
       "        text-align: right;\n",
       "    }\n",
       "</style>\n",
       "<table border=\"1\" class=\"dataframe\">\n",
       "  <thead>\n",
       "    <tr style=\"text-align: right;\">\n",
       "      <th></th>\n",
       "      <th>name</th>\n",
       "      <th>year</th>\n",
       "      <th>selling_price</th>\n",
       "      <th>km_driven</th>\n",
       "      <th>fuel</th>\n",
       "      <th>seller_type</th>\n",
       "      <th>transmission</th>\n",
       "      <th>owner</th>\n",
       "    </tr>\n",
       "  </thead>\n",
       "  <tbody>\n",
       "    <tr>\n",
       "      <th>0</th>\n",
       "      <td>Maruti 800 AC</td>\n",
       "      <td>2007.0</td>\n",
       "      <td>60000</td>\n",
       "      <td>70000</td>\n",
       "      <td>Petrol</td>\n",
       "      <td>Individual</td>\n",
       "      <td>Manual</td>\n",
       "      <td>First Owner</td>\n",
       "    </tr>\n",
       "    <tr>\n",
       "      <th>1</th>\n",
       "      <td>Maruti Wagon R LXI Minor</td>\n",
       "      <td>2007.0</td>\n",
       "      <td>135000</td>\n",
       "      <td>50000</td>\n",
       "      <td>Petrol</td>\n",
       "      <td>Individual</td>\n",
       "      <td>Manual</td>\n",
       "      <td>First Owner</td>\n",
       "    </tr>\n",
       "    <tr>\n",
       "      <th>2</th>\n",
       "      <td>Hyundai Verna 1.6 SX</td>\n",
       "      <td>2012.0</td>\n",
       "      <td>600000</td>\n",
       "      <td>100000</td>\n",
       "      <td>Diesel</td>\n",
       "      <td>Individual</td>\n",
       "      <td>Manual</td>\n",
       "      <td>First Owner</td>\n",
       "    </tr>\n",
       "    <tr>\n",
       "      <th>3</th>\n",
       "      <td>Datsun RediGO T Option</td>\n",
       "      <td>2017.0</td>\n",
       "      <td>250000</td>\n",
       "      <td>46000</td>\n",
       "      <td>Petrol</td>\n",
       "      <td>Individual</td>\n",
       "      <td>Manual</td>\n",
       "      <td>First Owner</td>\n",
       "    </tr>\n",
       "    <tr>\n",
       "      <th>4</th>\n",
       "      <td>Honda Amaze VX i-DTEC</td>\n",
       "      <td>2014.0</td>\n",
       "      <td>450000</td>\n",
       "      <td>141000</td>\n",
       "      <td>Diesel</td>\n",
       "      <td>Individual</td>\n",
       "      <td>Manual</td>\n",
       "      <td>Second Owner</td>\n",
       "    </tr>\n",
       "  </tbody>\n",
       "</table>\n",
       "</div>"
      ],
      "text/plain": [
       "                       name    year  selling_price  km_driven    fuel  \\\n",
       "0             Maruti 800 AC  2007.0          60000      70000  Petrol   \n",
       "1  Maruti Wagon R LXI Minor  2007.0         135000      50000  Petrol   \n",
       "2      Hyundai Verna 1.6 SX  2012.0         600000     100000  Diesel   \n",
       "3    Datsun RediGO T Option  2017.0         250000      46000  Petrol   \n",
       "4     Honda Amaze VX i-DTEC  2014.0         450000     141000  Diesel   \n",
       "\n",
       "  seller_type transmission         owner  \n",
       "0  Individual       Manual   First Owner  \n",
       "1  Individual       Manual   First Owner  \n",
       "2  Individual       Manual   First Owner  \n",
       "3  Individual       Manual   First Owner  \n",
       "4  Individual       Manual  Second Owner  "
      ]
     },
     "execution_count": 160,
     "metadata": {},
     "output_type": "execute_result"
    }
   ],
   "source": [
    "#Exploring the dataset\n",
    "\n",
    "print(\"Printing the first five rows of the dataset :\")\n",
    "cars_df.head()"
   ]
  },
  {
   "cell_type": "code",
   "execution_count": 161,
   "id": "1b9728f6-408a-49b4-b35e-ba9df6c632b4",
   "metadata": {},
   "outputs": [
    {
     "name": "stdout",
     "output_type": "stream",
     "text": [
      "<class 'pandas.core.frame.DataFrame'>\n",
      "RangeIndex: 3657 entries, 0 to 3656\n",
      "Data columns (total 8 columns):\n",
      " #   Column         Non-Null Count  Dtype  \n",
      "---  ------         --------------  -----  \n",
      " 0   name           3657 non-null   object \n",
      " 1   year           3657 non-null   float64\n",
      " 2   selling_price  3657 non-null   int64  \n",
      " 3   km_driven      3657 non-null   int64  \n",
      " 4   fuel           3657 non-null   object \n",
      " 5   seller_type    3657 non-null   object \n",
      " 6   transmission   3657 non-null   object \n",
      " 7   owner          3657 non-null   object \n",
      "dtypes: float64(1), int64(2), object(5)\n",
      "memory usage: 228.7+ KB\n"
     ]
    }
   ],
   "source": [
    "#Printing the information of the dataset using .info method:\n",
    "\n",
    "cars_df.info()"
   ]
  },
  {
   "cell_type": "code",
   "execution_count": 162,
   "id": "b6da5675-1dbe-4c7a-95c4-64c7a92ac10e",
   "metadata": {},
   "outputs": [
    {
     "data": {
      "text/html": [
       "<div>\n",
       "<style scoped>\n",
       "    .dataframe tbody tr th:only-of-type {\n",
       "        vertical-align: middle;\n",
       "    }\n",
       "\n",
       "    .dataframe tbody tr th {\n",
       "        vertical-align: top;\n",
       "    }\n",
       "\n",
       "    .dataframe thead th {\n",
       "        text-align: right;\n",
       "    }\n",
       "</style>\n",
       "<table border=\"1\" class=\"dataframe\">\n",
       "  <thead>\n",
       "    <tr style=\"text-align: right;\">\n",
       "      <th></th>\n",
       "      <th>year</th>\n",
       "      <th>selling_price</th>\n",
       "      <th>km_driven</th>\n",
       "    </tr>\n",
       "  </thead>\n",
       "  <tbody>\n",
       "    <tr>\n",
       "      <th>count</th>\n",
       "      <td>3657.000000</td>\n",
       "      <td>3.657000e+03</td>\n",
       "      <td>3657.000000</td>\n",
       "    </tr>\n",
       "    <tr>\n",
       "      <th>mean</th>\n",
       "      <td>2013.123599</td>\n",
       "      <td>4.945088e+05</td>\n",
       "      <td>66560.660924</td>\n",
       "    </tr>\n",
       "    <tr>\n",
       "      <th>std</th>\n",
       "      <td>4.119128</td>\n",
       "      <td>5.579230e+05</td>\n",
       "      <td>47007.819292</td>\n",
       "    </tr>\n",
       "    <tr>\n",
       "      <th>min</th>\n",
       "      <td>1995.000000</td>\n",
       "      <td>2.000000e+04</td>\n",
       "      <td>1.000000</td>\n",
       "    </tr>\n",
       "    <tr>\n",
       "      <th>25%</th>\n",
       "      <td>2011.000000</td>\n",
       "      <td>2.100000e+05</td>\n",
       "      <td>35000.000000</td>\n",
       "    </tr>\n",
       "    <tr>\n",
       "      <th>50%</th>\n",
       "      <td>2014.000000</td>\n",
       "      <td>3.500000e+05</td>\n",
       "      <td>60000.000000</td>\n",
       "    </tr>\n",
       "    <tr>\n",
       "      <th>75%</th>\n",
       "      <td>2016.000000</td>\n",
       "      <td>6.000000e+05</td>\n",
       "      <td>90000.000000</td>\n",
       "    </tr>\n",
       "    <tr>\n",
       "      <th>max</th>\n",
       "      <td>2020.000000</td>\n",
       "      <td>8.900000e+06</td>\n",
       "      <td>806599.000000</td>\n",
       "    </tr>\n",
       "  </tbody>\n",
       "</table>\n",
       "</div>"
      ],
      "text/plain": [
       "              year  selling_price      km_driven\n",
       "count  3657.000000   3.657000e+03    3657.000000\n",
       "mean   2013.123599   4.945088e+05   66560.660924\n",
       "std       4.119128   5.579230e+05   47007.819292\n",
       "min    1995.000000   2.000000e+04       1.000000\n",
       "25%    2011.000000   2.100000e+05   35000.000000\n",
       "50%    2014.000000   3.500000e+05   60000.000000\n",
       "75%    2016.000000   6.000000e+05   90000.000000\n",
       "max    2020.000000   8.900000e+06  806599.000000"
      ]
     },
     "execution_count": 162,
     "metadata": {},
     "output_type": "execute_result"
    }
   ],
   "source": [
    "# Exploring the statistics of the numerical features using describe method\n",
    "cars_df.describe()"
   ]
  },
  {
   "cell_type": "code",
   "execution_count": 163,
   "id": "b79f3f9e-3fa8-4dc4-83df-5500a698e342",
   "metadata": {},
   "outputs": [
    {
     "data": {
      "text/plain": [
       "name             0\n",
       "year             0\n",
       "selling_price    0\n",
       "km_driven        0\n",
       "fuel             0\n",
       "seller_type      0\n",
       "transmission     0\n",
       "owner            0\n",
       "dtype: int64"
      ]
     },
     "execution_count": 163,
     "metadata": {},
     "output_type": "execute_result"
    }
   ],
   "source": [
    "#Checking if there are any missing values in the dataset\n",
    "cars_df.isnull().sum()"
   ]
  },
  {
   "cell_type": "code",
   "execution_count": 164,
   "id": "ffd981f6-2df7-4ccb-a491-0bd8feaeaf33",
   "metadata": {},
   "outputs": [
    {
     "name": "stdout",
     "output_type": "stream",
     "text": [
      "Number of columns in the dataset :  8\n"
     ]
    }
   ],
   "source": [
    "#Checking total number of columns in the dataset\n",
    "\n",
    "print(\"Number of columns in the dataset : \",len(cars_df.columns))\n"
   ]
  },
  {
   "cell_type": "code",
   "execution_count": 165,
   "id": "9433583f-53f4-4a96-aa78-83dc202918e4",
   "metadata": {},
   "outputs": [
    {
     "name": "stdout",
     "output_type": "stream",
     "text": [
      "The datatypes of the columns are :\n"
     ]
    },
    {
     "data": {
      "text/plain": [
       "name              object\n",
       "year             float64\n",
       "selling_price      int64\n",
       "km_driven          int64\n",
       "fuel              object\n",
       "seller_type       object\n",
       "transmission      object\n",
       "owner             object\n",
       "dtype: object"
      ]
     },
     "execution_count": 165,
     "metadata": {},
     "output_type": "execute_result"
    }
   ],
   "source": [
    "# Exploring the datatypes of each columns : we use dtypes method\n",
    "\n",
    "print(\"The datatypes of the columns are :\")\n",
    "cars_df.dtypes"
   ]
  },
  {
   "cell_type": "code",
   "execution_count": 166,
   "id": "1690520f-a27e-44ad-847b-f83537b87d36",
   "metadata": {},
   "outputs": [
    {
     "data": {
      "text/html": [
       "<div>\n",
       "<style scoped>\n",
       "    .dataframe tbody tr th:only-of-type {\n",
       "        vertical-align: middle;\n",
       "    }\n",
       "\n",
       "    .dataframe tbody tr th {\n",
       "        vertical-align: top;\n",
       "    }\n",
       "\n",
       "    .dataframe thead th {\n",
       "        text-align: right;\n",
       "    }\n",
       "</style>\n",
       "<table border=\"1\" class=\"dataframe\">\n",
       "  <thead>\n",
       "    <tr style=\"text-align: right;\">\n",
       "      <th></th>\n",
       "      <th>name</th>\n",
       "      <th>year</th>\n",
       "      <th>selling_price</th>\n",
       "      <th>km_driven</th>\n",
       "      <th>fuel</th>\n",
       "      <th>seller_type</th>\n",
       "      <th>transmission</th>\n",
       "      <th>owner</th>\n",
       "      <th>seller_type_encoded</th>\n",
       "      <th>owner_encoded</th>\n",
       "      <th>fuel_encoded</th>\n",
       "    </tr>\n",
       "  </thead>\n",
       "  <tbody>\n",
       "    <tr>\n",
       "      <th>0</th>\n",
       "      <td>Maruti 800 AC</td>\n",
       "      <td>2007.0</td>\n",
       "      <td>60000</td>\n",
       "      <td>70000</td>\n",
       "      <td>Petrol</td>\n",
       "      <td>Individual</td>\n",
       "      <td>Manual</td>\n",
       "      <td>First Owner</td>\n",
       "      <td>1.0</td>\n",
       "      <td>0.0</td>\n",
       "      <td>1.0</td>\n",
       "    </tr>\n",
       "    <tr>\n",
       "      <th>1</th>\n",
       "      <td>Maruti Wagon R LXI Minor</td>\n",
       "      <td>2007.0</td>\n",
       "      <td>135000</td>\n",
       "      <td>50000</td>\n",
       "      <td>Petrol</td>\n",
       "      <td>Individual</td>\n",
       "      <td>Manual</td>\n",
       "      <td>First Owner</td>\n",
       "      <td>1.0</td>\n",
       "      <td>0.0</td>\n",
       "      <td>1.0</td>\n",
       "    </tr>\n",
       "    <tr>\n",
       "      <th>2</th>\n",
       "      <td>Hyundai Verna 1.6 SX</td>\n",
       "      <td>2012.0</td>\n",
       "      <td>600000</td>\n",
       "      <td>100000</td>\n",
       "      <td>Diesel</td>\n",
       "      <td>Individual</td>\n",
       "      <td>Manual</td>\n",
       "      <td>First Owner</td>\n",
       "      <td>1.0</td>\n",
       "      <td>0.0</td>\n",
       "      <td>0.0</td>\n",
       "    </tr>\n",
       "    <tr>\n",
       "      <th>3</th>\n",
       "      <td>Datsun RediGO T Option</td>\n",
       "      <td>2017.0</td>\n",
       "      <td>250000</td>\n",
       "      <td>46000</td>\n",
       "      <td>Petrol</td>\n",
       "      <td>Individual</td>\n",
       "      <td>Manual</td>\n",
       "      <td>First Owner</td>\n",
       "      <td>1.0</td>\n",
       "      <td>0.0</td>\n",
       "      <td>1.0</td>\n",
       "    </tr>\n",
       "    <tr>\n",
       "      <th>4</th>\n",
       "      <td>Honda Amaze VX i-DTEC</td>\n",
       "      <td>2014.0</td>\n",
       "      <td>450000</td>\n",
       "      <td>141000</td>\n",
       "      <td>Diesel</td>\n",
       "      <td>Individual</td>\n",
       "      <td>Manual</td>\n",
       "      <td>Second Owner</td>\n",
       "      <td>1.0</td>\n",
       "      <td>1.0</td>\n",
       "      <td>0.0</td>\n",
       "    </tr>\n",
       "  </tbody>\n",
       "</table>\n",
       "</div>"
      ],
      "text/plain": [
       "                       name    year  selling_price  km_driven    fuel  \\\n",
       "0             Maruti 800 AC  2007.0          60000      70000  Petrol   \n",
       "1  Maruti Wagon R LXI Minor  2007.0         135000      50000  Petrol   \n",
       "2      Hyundai Verna 1.6 SX  2012.0         600000     100000  Diesel   \n",
       "3    Datsun RediGO T Option  2017.0         250000      46000  Petrol   \n",
       "4     Honda Amaze VX i-DTEC  2014.0         450000     141000  Diesel   \n",
       "\n",
       "  seller_type transmission         owner  seller_type_encoded  owner_encoded  \\\n",
       "0  Individual       Manual   First Owner                  1.0            0.0   \n",
       "1  Individual       Manual   First Owner                  1.0            0.0   \n",
       "2  Individual       Manual   First Owner                  1.0            0.0   \n",
       "3  Individual       Manual   First Owner                  1.0            0.0   \n",
       "4  Individual       Manual  Second Owner                  1.0            1.0   \n",
       "\n",
       "   fuel_encoded  \n",
       "0           1.0  \n",
       "1           1.0  \n",
       "2           0.0  \n",
       "3           1.0  \n",
       "4           0.0  "
      ]
     },
     "execution_count": 166,
     "metadata": {},
     "output_type": "execute_result"
    }
   ],
   "source": [
    "# Converting categorical features into numerical values using Ordinal Encoding\n",
    "# importing OrdinalEncoder from sklearn\n",
    "from sklearn.preprocessing import OrdinalEncoder\n",
    "\n",
    "ordinalEncoder = OrdinalEncoder()\n",
    "\n",
    "# instantiate OrdinalEncoder and then using fit_transform to transform data\n",
    "\n",
    "cars_df['seller_type_encoded'] = ordinalEncoder.fit_transform(cars_df[['seller_type']])\n",
    "cars_df['owner_encoded'] = ordinalEncoder.fit_transform(cars_df[['owner']])\n",
    "cars_df['fuel_encoded'] = ordinalEncoder.fit_transform(cars_df[['fuel']])\n",
    "\n",
    "#printing the dataset after converting the features\n",
    "\n",
    "cars_df.head()"
   ]
  },
  {
   "cell_type": "code",
   "execution_count": 167,
   "id": "97a6bbae-e715-4a79-bc25-1879e58bf415",
   "metadata": {},
   "outputs": [
    {
     "data": {
      "text/html": [
       "<div>\n",
       "<style scoped>\n",
       "    .dataframe tbody tr th:only-of-type {\n",
       "        vertical-align: middle;\n",
       "    }\n",
       "\n",
       "    .dataframe tbody tr th {\n",
       "        vertical-align: top;\n",
       "    }\n",
       "\n",
       "    .dataframe thead th {\n",
       "        text-align: right;\n",
       "    }\n",
       "</style>\n",
       "<table border=\"1\" class=\"dataframe\">\n",
       "  <thead>\n",
       "    <tr style=\"text-align: right;\">\n",
       "      <th></th>\n",
       "      <th>year</th>\n",
       "      <th>seller_type_encoded</th>\n",
       "      <th>owner_encoded</th>\n",
       "      <th>fuel_encoded</th>\n",
       "      <th>km_driven</th>\n",
       "      <th>selling_price</th>\n",
       "    </tr>\n",
       "  </thead>\n",
       "  <tbody>\n",
       "    <tr>\n",
       "      <th>0</th>\n",
       "      <td>2007.0</td>\n",
       "      <td>1.0</td>\n",
       "      <td>0.0</td>\n",
       "      <td>1.0</td>\n",
       "      <td>70000</td>\n",
       "      <td>60000</td>\n",
       "    </tr>\n",
       "    <tr>\n",
       "      <th>1</th>\n",
       "      <td>2007.0</td>\n",
       "      <td>1.0</td>\n",
       "      <td>0.0</td>\n",
       "      <td>1.0</td>\n",
       "      <td>50000</td>\n",
       "      <td>135000</td>\n",
       "    </tr>\n",
       "    <tr>\n",
       "      <th>2</th>\n",
       "      <td>2012.0</td>\n",
       "      <td>1.0</td>\n",
       "      <td>0.0</td>\n",
       "      <td>0.0</td>\n",
       "      <td>100000</td>\n",
       "      <td>600000</td>\n",
       "    </tr>\n",
       "    <tr>\n",
       "      <th>3</th>\n",
       "      <td>2017.0</td>\n",
       "      <td>1.0</td>\n",
       "      <td>0.0</td>\n",
       "      <td>1.0</td>\n",
       "      <td>46000</td>\n",
       "      <td>250000</td>\n",
       "    </tr>\n",
       "    <tr>\n",
       "      <th>4</th>\n",
       "      <td>2014.0</td>\n",
       "      <td>1.0</td>\n",
       "      <td>1.0</td>\n",
       "      <td>0.0</td>\n",
       "      <td>141000</td>\n",
       "      <td>450000</td>\n",
       "    </tr>\n",
       "  </tbody>\n",
       "</table>\n",
       "</div>"
      ],
      "text/plain": [
       "     year  seller_type_encoded  owner_encoded  fuel_encoded  km_driven  \\\n",
       "0  2007.0                  1.0            0.0           1.0      70000   \n",
       "1  2007.0                  1.0            0.0           1.0      50000   \n",
       "2  2012.0                  1.0            0.0           0.0     100000   \n",
       "3  2017.0                  1.0            0.0           1.0      46000   \n",
       "4  2014.0                  1.0            1.0           0.0     141000   \n",
       "\n",
       "   selling_price  \n",
       "0          60000  \n",
       "1         135000  \n",
       "2         600000  \n",
       "3         250000  \n",
       "4         450000  "
      ]
     },
     "execution_count": 167,
     "metadata": {},
     "output_type": "execute_result"
    }
   ],
   "source": [
    "#Creating a DataFrame that stores all the numerical columns for which we need to find the correlation :\n",
    "\n",
    "cars_df_num_features = cars_df[['year','seller_type_encoded','owner_encoded','fuel_encoded','km_driven','selling_price']].copy()\n",
    "\n",
    "#Displaying the first five rows:\n",
    "\n",
    "cars_df_num_features.head()"
   ]
  },
  {
   "cell_type": "code",
   "execution_count": 168,
   "id": "a85ff89a-6dfa-422e-9832-17141318989a",
   "metadata": {},
   "outputs": [
    {
     "name": "stdout",
     "output_type": "stream",
     "text": [
      "The correlation between fuel type and selling price is :  -0.27762704341734934\n"
     ]
    }
   ],
   "source": [
    "#Now finding the correlations between Fuel , Year, Km_Driven, Seller_Type, Owner_Type and target variable - Selling_Price\n",
    "\n",
    "# Correlation between Fuel type and Selling price\n",
    "\n",
    "fuel_sp_corr = cars_df_num_features['fuel_encoded'].corr(cars_df_num_features['selling_price'])\n",
    "\n",
    "print(\"The correlation between fuel type and selling price is : \",fuel_sp_corr)"
   ]
  },
  {
   "cell_type": "code",
   "execution_count": 169,
   "id": "954e4575-0780-4af5-b0fe-c6ea8d06129b",
   "metadata": {},
   "outputs": [
    {
     "name": "stdout",
     "output_type": "stream",
     "text": [
      "The correlation between year and selling price is :  0.41110276220633124\n"
     ]
    }
   ],
   "source": [
    "# Correlation betweeen year and selling price\n",
    "\n",
    "year_sp_corr = cars_df_num_features['year'].corr(cars_df_num_features['selling_price'])\n",
    "\n",
    "print(\"The correlation between year and selling price is : \",year_sp_corr)"
   ]
  },
  {
   "cell_type": "code",
   "execution_count": 170,
   "id": "55f069f5-2309-42fb-95c1-6f901d7e2b7f",
   "metadata": {},
   "outputs": [
    {
     "name": "stdout",
     "output_type": "stream",
     "text": [
      "The correlation between km_driven and selling price is :  -0.1772027798572389\n"
     ]
    }
   ],
   "source": [
    "# Correlation between km_driven and selling price\n",
    "\n",
    "km_sp_corr = cars_df_num_features['km_driven'].corr(cars_df_num_features['selling_price'])\n",
    "\n",
    "print(\"The correlation between km_driven and selling price is : \",km_sp_corr)"
   ]
  },
  {
   "cell_type": "code",
   "execution_count": 171,
   "id": "67dbc3f9-e26c-40e6-b878-d7584f340221",
   "metadata": {},
   "outputs": [
    {
     "name": "stdout",
     "output_type": "stream",
     "text": [
      "The correlation between seller_type and selling price is :  -0.20863704840276923\n"
     ]
    }
   ],
   "source": [
    "# Correlation between seller type and selling price\n",
    "\n",
    "sellertype_sp_corr = cars_df_num_features['seller_type_encoded'].corr(cars_df_num_features['selling_price'])\n",
    "\n",
    "print(\"The correlation between seller_type and selling price is : \",sellertype_sp_corr)"
   ]
  },
  {
   "cell_type": "code",
   "execution_count": 172,
   "id": "63bea776-852c-4f92-97cc-eef96e867a5d",
   "metadata": {},
   "outputs": [
    {
     "name": "stdout",
     "output_type": "stream",
     "text": [
      "The correlation between owner_type and selling price is :  -0.20552358731122453\n"
     ]
    }
   ],
   "source": [
    "# Correlation between owner type and selling price\n",
    "\n",
    "ownertype_sp_corr = cars_df_num_features['owner_encoded'].corr(cars_df_num_features['selling_price'])\n",
    "\n",
    "print(\"The correlation between owner_type and selling price is : \",ownertype_sp_corr)"
   ]
  },
  {
   "cell_type": "code",
   "execution_count": 173,
   "id": "f85ebec9-eed7-4451-a6de-1e5907454a8f",
   "metadata": {},
   "outputs": [
    {
     "data": {
      "text/html": [
       "<div>\n",
       "<style scoped>\n",
       "    .dataframe tbody tr th:only-of-type {\n",
       "        vertical-align: middle;\n",
       "    }\n",
       "\n",
       "    .dataframe tbody tr th {\n",
       "        vertical-align: top;\n",
       "    }\n",
       "\n",
       "    .dataframe thead th {\n",
       "        text-align: right;\n",
       "    }\n",
       "</style>\n",
       "<table border=\"1\" class=\"dataframe\">\n",
       "  <thead>\n",
       "    <tr style=\"text-align: right;\">\n",
       "      <th></th>\n",
       "      <th>year</th>\n",
       "      <th>seller_type_encoded</th>\n",
       "      <th>owner_encoded</th>\n",
       "      <th>fuel_encoded</th>\n",
       "      <th>km_driven</th>\n",
       "      <th>selling_price</th>\n",
       "    </tr>\n",
       "  </thead>\n",
       "  <tbody>\n",
       "    <tr>\n",
       "      <th>year</th>\n",
       "      <td>1.000000</td>\n",
       "      <td>-0.139135</td>\n",
       "      <td>-0.433406</td>\n",
       "      <td>-0.118542</td>\n",
       "      <td>-0.404058</td>\n",
       "      <td>0.411103</td>\n",
       "    </tr>\n",
       "    <tr>\n",
       "      <th>seller_type_encoded</th>\n",
       "      <td>-0.139135</td>\n",
       "      <td>1.000000</td>\n",
       "      <td>0.239288</td>\n",
       "      <td>0.036755</td>\n",
       "      <td>0.147376</td>\n",
       "      <td>-0.208637</td>\n",
       "    </tr>\n",
       "    <tr>\n",
       "      <th>owner_encoded</th>\n",
       "      <td>-0.433406</td>\n",
       "      <td>0.239288</td>\n",
       "      <td>1.000000</td>\n",
       "      <td>-0.017217</td>\n",
       "      <td>0.306730</td>\n",
       "      <td>-0.205524</td>\n",
       "    </tr>\n",
       "    <tr>\n",
       "      <th>fuel_encoded</th>\n",
       "      <td>-0.118542</td>\n",
       "      <td>0.036755</td>\n",
       "      <td>-0.017217</td>\n",
       "      <td>1.000000</td>\n",
       "      <td>-0.297764</td>\n",
       "      <td>-0.277627</td>\n",
       "    </tr>\n",
       "    <tr>\n",
       "      <th>km_driven</th>\n",
       "      <td>-0.404058</td>\n",
       "      <td>0.147376</td>\n",
       "      <td>0.306730</td>\n",
       "      <td>-0.297764</td>\n",
       "      <td>1.000000</td>\n",
       "      <td>-0.177203</td>\n",
       "    </tr>\n",
       "    <tr>\n",
       "      <th>selling_price</th>\n",
       "      <td>0.411103</td>\n",
       "      <td>-0.208637</td>\n",
       "      <td>-0.205524</td>\n",
       "      <td>-0.277627</td>\n",
       "      <td>-0.177203</td>\n",
       "      <td>1.000000</td>\n",
       "    </tr>\n",
       "  </tbody>\n",
       "</table>\n",
       "</div>"
      ],
      "text/plain": [
       "                         year  seller_type_encoded  owner_encoded  \\\n",
       "year                 1.000000            -0.139135      -0.433406   \n",
       "seller_type_encoded -0.139135             1.000000       0.239288   \n",
       "owner_encoded       -0.433406             0.239288       1.000000   \n",
       "fuel_encoded        -0.118542             0.036755      -0.017217   \n",
       "km_driven           -0.404058             0.147376       0.306730   \n",
       "selling_price        0.411103            -0.208637      -0.205524   \n",
       "\n",
       "                     fuel_encoded  km_driven  selling_price  \n",
       "year                    -0.118542  -0.404058       0.411103  \n",
       "seller_type_encoded      0.036755   0.147376      -0.208637  \n",
       "owner_encoded           -0.017217   0.306730      -0.205524  \n",
       "fuel_encoded             1.000000  -0.297764      -0.277627  \n",
       "km_driven               -0.297764   1.000000      -0.177203  \n",
       "selling_price           -0.277627  -0.177203       1.000000  "
      ]
     },
     "execution_count": 173,
     "metadata": {},
     "output_type": "execute_result"
    }
   ],
   "source": [
    "# The correlation matrix between Fuel , Year, Km_Driven, Seller_Type, Owner_Type and target variable - Selling_Price\n",
    "\n",
    "cars_df_num_features.corr()"
   ]
  },
  {
   "cell_type": "code",
   "execution_count": 174,
   "id": "53b547ea-602b-40ce-b33e-ab541fd49d4a",
   "metadata": {},
   "outputs": [
    {
     "data": {
      "text/plain": [
       "<Axes: >"
      ]
     },
     "execution_count": 174,
     "metadata": {},
     "output_type": "execute_result"
    },
    {
     "data": {
      "image/png": "[encoded data removed]",
      "text/plain": [
       "<Figure size 640x480 with 2 Axes>"
      ]
     },
     "metadata": {},
     "output_type": "display_data"
    }
   ],
   "source": [
    "#Displaying the heat map for the correlation obtained\n",
    "sns.heatmap(cars_df_num_features.corr(), annot=True)\n"
   ]
  },
  {
   "cell_type": "markdown",
   "id": "59d71c39-654e-43f0-ad71-3d11859473ff",
   "metadata": {},
   "source": [
    "### Explanations :"
   ]
  },
  {
   "cell_type": "markdown",
   "id": "24d57665-37d8-4b46-a864-d9919a2e9fc1",
   "metadata": {},
   "source": [
    "The correlation obtained from above matrix are given below:\n",
    "\n",
    "* The correlation between fuel type and selling price is : -0.\n",
    "27762704341734934\n",
    "* ⁠The correlation between year and selling price is :  0.\n",
    "41110276220633124\n",
    "* The correlation between km_driven and selling price is : -0.\n",
    "1772027798572389\n",
    "* The correlation between seller_type and selling price is : -0.\n",
    "20863704840276923\n",
    "* The correlation between owner_type and selling price is : -0.\n",
    "20552358731122453\n",
    "\n",
    "The correlation between features is an essential factor which impacts the preciseness of the final selling price predictions rendered during the training process of a regression model.\n",
    "\n",
    "\n"
   ]
  },
  {
   "cell_type": "markdown",
   "id": "978f7ca2-d067-445d-ad6d-4c0dd08d1d1d",
   "metadata": {},
   "source": [
    "\n",
    "From the correlation obtained from above matrix, we get the following conclusions:\n",
    "\n",
    "* The features that have a substantial contribute with the selling price are the fuel type and year, demonstrating that they have an important impact on estimating the car's selling price.\n",
    "* The least connected features like seller type, owner type, and km driven belong to those the fact that refrain from providing as much direct information with regard to the car’s selling price.\n"
   ]
  },
  {
   "cell_type": "markdown",
   "id": "f746b4eb-41c2-48aa-85e8-7f39f5842450",
   "metadata": {},
   "source": [
    "In Depth Analysis on the Correlation:\n",
    "* ⁠The most accurate prediction outcomes emanate from features that are associated with a high either a positive or negative correlation to the selling price; higher positive correlations are directly correlated with higher prices, while higher negative correlations are inversely correlated with lower prices.\n",
    "* ⁠On the other hand, strongly correlated features are more useful for accurate forecasts than features with a weak or no association with the selling price, which ultimately results in poor prediction accuracy.\n"
   ]
  },
  {
   "cell_type": "markdown",
   "id": "086ea986-df86-409a-8047-028ba8b0c02f",
   "metadata": {},
   "source": [
    "The impacts which are possibly seen are discussed below:\n",
    "\n",
    "* In addition to their substantial positive or negative correlations, the highly correlated features will have an important influence on the precision of the predictions are. Since they contribute insightful information about pricing trends, incorporating them to while training a model ought to improve its performance.\n",
    "\n",
    "* Having low-correlation features may add noise to the model, diminishing the precision of the predictions. Despite substantially enhancing the ability to predict, they could make the model far more complicated."
   ]
  },
  {
   "cell_type": "markdown",
   "id": "C3DFUuGXklO_",
   "metadata": {
    "id": "C3DFUuGXklO_"
   },
   "source": [
    "### Q3: Split Training and Testing Data\n",
    "* Machine learning models are trained to help make predictions for the future. Normally, we need to randomly split the dataset into training and testing sets, where we use the training set to train the model, and then leverage the well-trained model to make predictions on the testing set.\n",
    "* To further investigate whether the size of the training/testing data affects the model performance, please randomly split the data into training and testing sets with different sizes:\n",
    "    * Case 1: training data containing 10% of the entire data;\n",
    "    * Case 2: training data containing 90% of the entire data.\n",
    "* Print the shape of training and testing sets in the two cases."
   ]
  },
  {
   "cell_type": "code",
   "execution_count": 181,
   "id": "a9cad98e-adda-4da1-a38d-2a29b281150f",
   "metadata": {},
   "outputs": [
    {
     "name": "stdout",
     "output_type": "stream",
     "text": [
      "The shape of training set in case 1 : (365, 11) and testing set in case 1 is (3292, 11)\n"
     ]
    }
   ],
   "source": [
    "# Spliting the dataset into train and test data with case1 - 10% train 90% test\n",
    "train_case1 , test_case1 = train_test_split(cars_df, test_size= 0.9, random_state= 42)\n",
    "\n",
    "print(\"The shape of training set in case 1 : \"+ str(train_case1.shape) + \" and testing set in case 1 is \"+ str(test_case1.shape))\n"
   ]
  },
  {
   "cell_type": "code",
   "execution_count": 182,
   "id": "6aa12bf0-a77e-431b-86bc-e2e344e2cd7a",
   "metadata": {},
   "outputs": [
    {
     "name": "stdout",
     "output_type": "stream",
     "text": [
      "The shape of training set in case 2 : (3291, 11) and testing set in case 2 is (366, 11)\n"
     ]
    }
   ],
   "source": [
    "# Spliting the dataset into train and test data with case1 - 90% train 10% test\n",
    "train_case2 , test_case2 = train_test_split(cars_df, test_size= 0.1, random_state= 42)\n",
    "\n",
    "print(\"The shape of training set in case 2 : \"+ str(train_case2.shape) + \" and testing set in case 2 is \"+ str(test_case2.shape))\n"
   ]
  },
  {
   "cell_type": "markdown",
   "id": "WiNRCPFoklO_",
   "metadata": {
    "id": "WiNRCPFoklO_"
   },
   "source": [
    "### Q4: Train Linear Regression Models with Feature Selection under Cases 1 & 2\n",
    "* When training a machine learning model for prediction, we may need to select the most important/correlated input features for more accurate results.\n",
    "* To investigate whether feature selection affects the model performance, please select two most correlated features and two least correlated features regarding selling_price, respectively.\n",
    "* Train four linear regression models by following the conditions:\n",
    "    - (model-a) using the training/testing data in case 1 with two most correlated input features\n",
    "    - (model-b) using the training/testing data in case 1 with two least correlated input features\n",
    "    - (model-c) using the training/testing data in case 2 with two most correlated input features\n",
    "    - (model-d) using the training/testing data in case 2 with two least correlated input features\n",
    "* By doing this, we can verify the impacts of the size of traing/testing data on the model performance via comparing model-a and model-c (or model-b and model-d); meanwhile the impacts of feature selection can be validated via comparing model-a and model-b (or model-c and model-d).    "
   ]
  },
  {
   "cell_type": "code",
   "execution_count": 184,
   "id": "c7303617-5089-42cc-aeb9-3ae876420fcf",
   "metadata": {},
   "outputs": [
    {
     "name": "stdout",
     "output_type": "stream",
     "text": [
      "MSE for model-a: 240873725575.0951\n",
      "Root MSE for model-a 490788.8808592704\n",
      "R^2 for model-a: 0.20436190784599761\n"
     ]
    }
   ],
   "source": [
    "# Model- A\n",
    "# Building Model A using the training/testing data in case 1 with two most correlated input features - fuel , year\n",
    "\n",
    "X_a_train_case1= train_case1[['fuel_encoded','year']]\n",
    "y_a_train_case1 = train_case1['selling_price']\n",
    "\n",
    "X_a_test_case1= test_case1[['fuel_encoded','year']]\n",
    "y_a_test_case1 = test_case1['selling_price']\n",
    "\n",
    "# Implementing the linear Regressor model and training with the train dataset\n",
    "model_a = linear_model.LinearRegression()\n",
    "model_a.fit(X_a_train_case1,y_a_train_case1)\n",
    "\n",
    "# Predicting the values on the test data using predict method\n",
    "predicted_A= model_a.predict(X_a_test_case1)\n",
    "\n",
    "#Evaluating the performance of Model - A using metrics - MSE , RMSE , R^2\n",
    "mse_a = mean_squared_error(y_a_test_case1, predicted_A)\n",
    "r2_a=r2_score(y_a_test_case1, predicted_A)\n",
    "\n",
    "#Displaying the metrics for Model - A\n",
    "print(\"MSE for model-a:\", mean_squared_error(y_a_test_case1, predicted_A))\n",
    "print(\"Root MSE for model-a\", np.sqrt(mse_a))\n",
    "print(\"R^2 for model-a:\", r2_score(y_a_test_case1, predicted_A))"
   ]
  },
  {
   "cell_type": "code",
   "execution_count": 185,
   "id": "7bcd6158",
   "metadata": {},
   "outputs": [
    {
     "name": "stdout",
     "output_type": "stream",
     "text": [
      "MSE for model-b: 285293189672.4325\n",
      "Root MSE for model-b 534128.4393031629\n",
      "R^2 for model-b: 0.05763848425743967\n"
     ]
    }
   ],
   "source": [
    "# Model- B\n",
    "# Building the Model - B using the training/testing data in case 1 with two least correlated input features - seller_type , owner type\n",
    "X_b_train_case1= train_case1[['seller_type_encoded','owner_encoded']]\n",
    "y_b_train_case1 = train_case1['selling_price']\n",
    "\n",
    "X_b_test_case1= test_case1[['seller_type_encoded','owner_encoded']]\n",
    "y_b_test_case1 = test_case1['selling_price']\n",
    "\n",
    "# Implementing the linear Regressor model and training with the train dataset\n",
    "model_b = linear_model.LinearRegression()\n",
    "model_b.fit(X_b_train_case1,y_b_train_case1)\n",
    "\n",
    "#Predicting the values on the test data using predict method \n",
    "predicted_B= model_b.predict(X_b_test_case1)\n",
    "\n",
    "#Evaluating the performance of Model - B using metrics - MSE , RMSE , R^2\n",
    "r2_b =r2_score(y_b_test_case1, predicted_B)\n",
    "mse_b = mean_squared_error(y_b_test_case1, predicted_B)\n",
    "\n",
    "#Displaying the metrics for Model - B\n",
    "print(\"MSE for model-b:\", mean_squared_error(y_b_test_case1, predicted_B))\n",
    "print(\"Root MSE for model-b\", np.sqrt(mse_b))\n",
    "print(\"R^2 for model-b:\", r2_score(y_b_test_case1, predicted_B))"
   ]
  },
  {
   "cell_type": "code",
   "execution_count": 186,
   "id": "4e0400f5-c353-43d5-a1f3-09b224c8b1f9",
   "metadata": {},
   "outputs": [
    {
     "name": "stdout",
     "output_type": "stream",
     "text": [
      "MSE for model-c: 141350876932.57782\n",
      "Root MSE for model-c 375966.59018133226\n",
      "R^2 for model-c: 0.3197367717290559\n"
     ]
    }
   ],
   "source": [
    "# Model- C\n",
    "# Building the Model- C using the training/testing data in case 2 with two most correlated input features fuel and year\n",
    "X_c_train_case2= train_case2[['fuel_encoded','year']]\n",
    "y_c_train_case2 = train_case2['selling_price']\n",
    "\n",
    "X_c_test_case2= test_case2[['fuel_encoded','year']]\n",
    "y_c_test_case2 = test_case2['selling_price']\n",
    "\n",
    "# Implementing the linear Regressor model and training with the train dataset\n",
    "model_c = linear_model.LinearRegression()\n",
    "model_c.fit(X_c_train_case2,y_c_train_case2)\n",
    "\n",
    "# Predicting the values on the test data using predict method \n",
    "predicted_C= model_c.predict(X_c_test_case2)\n",
    "\n",
    "# Evaluating the performance of Model - C using metrics - MSE , RMSE , R^2\n",
    "mse_c = mean_squared_error(y_c_test_case2, predicted_C)\n",
    "r2_c= r2_score(y_c_test_case2, predicted_C)\n",
    "\n",
    "#Displaying the metrics for Model - C\n",
    "print(\"MSE for model-c:\", mean_squared_error(y_c_test_case2, predicted_C))\n",
    "print(\"Root MSE for model-c\", np.sqrt(mse_c))\n",
    "print(\"R^2 for model-c:\", r2_score(y_c_test_case2, predicted_C))"
   ]
  },
  {
   "cell_type": "code",
   "execution_count": 187,
   "id": "98bb144c-5532-408c-abfe-f1f703aad57d",
   "metadata": {},
   "outputs": [
    {
     "name": "stdout",
     "output_type": "stream",
     "text": [
      "MSE for model-d: 199442370973.7956\n",
      "Root MSE for model-d 534128.4393031629\n",
      "R^2 for model-d: 0.04016647029816811\n"
     ]
    }
   ],
   "source": [
    "# Model- D\n",
    "#Building Model - D using the training/testing data in case 2 with two least correlated input features seller type and owner type\n",
    "X_d_train_case2= train_case2[['seller_type_encoded','owner_encoded']]\n",
    "y_d_train_case2 = train_case2['selling_price']\n",
    "\n",
    "X_d_test_case2= test_case2[['seller_type_encoded','owner_encoded']]\n",
    "y_d_test_case2 = test_case2['selling_price']\n",
    "\n",
    "# Implementing the linear Regressor model and training with the train dataset\n",
    "model_d = linear_model.LinearRegression()\n",
    "model_d.fit(X_d_train_case2,y_d_train_case2)\n",
    "\n",
    "# Predicting the values on the test data using predict method \n",
    "predicted_D= model_d.predict(X_d_test_case2)\n",
    "\n",
    "# Evaluating the performance of Model - D using metrics - MSE , RMSE , R^2\n",
    "r2_d=r2_score(y_d_test_case2, predicted_D)\n",
    "mse_d = mean_squared_error(y_d_test_case2, predicted_D)\n",
    "\n",
    "#Displaying the metrics for Model - D\n",
    "print(\"MSE for model-d:\", mean_squared_error(y_d_test_case2, predicted_D))\n",
    "print(\"Root MSE for model-d\", np.sqrt(mse_b))\n",
    "print(\"R^2 for model-d:\", r2_score(y_d_test_case2, predicted_D))"
   ]
  },
  {
   "cell_type": "markdown",
   "id": "uIHDIRCYklO_",
   "metadata": {
    "id": "uIHDIRCYklO_"
   },
   "source": [
    "### Q5: Evaluate Models\n",
    "* Evaluate the performance of the four models with two metrics, including MSE and Root MSE\n",
    "* Print the results of the four models regarding the two metrics"
   ]
  },
  {
   "cell_type": "code",
   "execution_count": 189,
   "id": "61621c39",
   "metadata": {},
   "outputs": [
    {
     "name": "stdout",
     "output_type": "stream",
     "text": [
      "MSE for Model-A: 240873725575.0951\n",
      "Root MSE for Model-A 490788.8808592704\n",
      "\n",
      "\n",
      "MSE for Model-B: 285293189672.4325\n",
      "Root MSE for Model-B 534128.4393031629\n",
      "\n",
      "\n",
      "MSE for Model-C: 141350876932.57782\n",
      "Root MSE for Model-C 375966.59018133226\n",
      "\n",
      "\n",
      "MSE for Model-D: 199442370973.7956\n",
      "Root MSE for Model-D 534128.4393031629\n"
     ]
    }
   ],
   "source": [
    "mse_a = mean_squared_error(y_a_test_case1, predicted_A)\n",
    "print(\"MSE for Model-A:\", mean_squared_error(y_a_test_case1, predicted_A))\n",
    "print(\"Root MSE for Model-A\", np.sqrt(mse_a))\n",
    "\n",
    "print(\"\\n\")\n",
    "mse_b = mean_squared_error(y_b_test_case1, predicted_B)\n",
    "print(\"MSE for Model-B:\", mean_squared_error(y_b_test_case1, predicted_B))\n",
    "print(\"Root MSE for Model-B\", np.sqrt(mse_b))\n",
    "\n",
    "print(\"\\n\")\n",
    "mse_c = mean_squared_error(y_c_test_case2, predicted_C)\n",
    "print(\"MSE for Model-C:\", mean_squared_error(y_c_test_case2, predicted_C))\n",
    "print(\"Root MSE for Model-C\", np.sqrt(mse_c))\n",
    "\n",
    "print(\"\\n\")\n",
    "mse_d = mean_squared_error(y_d_test_case2, predicted_D)\n",
    "print(\"MSE for Model-D:\", mean_squared_error(y_d_test_case2, predicted_D))\n",
    "print(\"Root MSE for Model-D\", np.sqrt(mse_b))"
   ]
  },
  {
   "cell_type": "markdown",
   "id": "6wmgPAzpklPA",
   "metadata": {
    "id": "6wmgPAzpklPA"
   },
   "source": [
    "### Q6: Visualize, Compare and Analyze the Results\n",
    "* Visulize the results, and perform ___insightful analysis___ on the obtained results. For better visualization, you may need to carefully set the scale for the y-axis.\n",
    "* Normally, the model trained with most correlated features and more training data will get better results. Do you obtain the similar observations? If not, please ___explain the possible reasons___."
   ]
  },
  {
   "cell_type": "code",
   "execution_count": 191,
   "id": "u0dpqTCmklPA",
   "metadata": {
    "id": "u0dpqTCmklPA"
   },
   "outputs": [],
   "source": [
    "models_of_4 = ['Model_A','Model_B','Model_C','Model_D']\n",
    "# Storing the values of mse for each model in a list\n",
    "mse = [mse_a,mse_b,mse_c,mse_d]\n"
   ]
  },
  {
   "cell_type": "code",
   "execution_count": 192,
   "id": "a1894c28-64b3-49c0-ba2e-2d93ecdc7772",
   "metadata": {},
   "outputs": [],
   "source": [
    "# Storing the values of rmse for each model in a list\n",
    "root_mse = [np.sqrt(mse_a),np.sqrt(mse_b),np.sqrt(mse_c),np.sqrt(mse_d)]\n"
   ]
  },
  {
   "cell_type": "code",
   "execution_count": 193,
   "id": "78234ff8-e002-48de-b6c1-5a39541c5858",
   "metadata": {},
   "outputs": [
    {
     "data": {
      "text/plain": [
       "(0.0, 342351827606.919)"
      ]
     },
     "execution_count": 193,
     "metadata": {},
     "output_type": "execute_result"
    },
    {
     "data": {
      "image/png": "[encoded data removed]",
      "text/plain": [
       "<Figure size 1000x600 with 1 Axes>"
      ]
     },
     "metadata": {},
     "output_type": "display_data"
    }
   ],
   "source": [
    "# Ploting the bar graph to display the mse of each model using .bar method from matplotlib\n",
    "plt.figure(figsize=(10, 6))\n",
    "plt.bar(models_of_4, mse, color= ['red', 'indigo', 'black', 'grey'])\n",
    "# Setting title \n",
    "plt.title('Mean Squared Error of the Models')\n",
    "# Setting x - label\n",
    "plt.xlabel('Models')\n",
    "# Setting y- label\n",
    "plt.ylabel('MSE value')\n",
    "# Setting scale on y axis using y limit\n",
    "plt.ylim(0, max(mse) * 1.2) "
   ]
  },
  {
   "cell_type": "code",
   "execution_count": 194,
   "id": "72714662-6f93-4a26-9802-a15e5253f5e0",
   "metadata": {},
   "outputs": [
    {
     "data": {
      "text/plain": [
       "(0.0, 587541.2832334792)"
      ]
     },
     "execution_count": 194,
     "metadata": {},
     "output_type": "execute_result"
    },
    {
     "data": {
      "image/png": "[encoded data removed]",
      "text/plain": [
       "<Figure size 1000x600 with 1 Axes>"
      ]
     },
     "metadata": {},
     "output_type": "display_data"
    }
   ],
   "source": [
    "# Ploting the bar graph to display the mse of each model using .bar method from matplotlib\n",
    "plt.figure(figsize=(10, 6))\n",
    "plt.bar(models_of_4, root_mse, color= ['steelblue', 'lightcoral', 'seagreen', 'yellow'])\n",
    "# Setting title \n",
    "plt.title('Root Mean Squared Error of the Models')\n",
    "# Setting x - label\n",
    "plt.xlabel('Models')\n",
    "# Setting y- label\n",
    "plt.ylabel('Root MSE value')\n",
    "# Setting scale on y axis using y limit\n",
    "plt.ylim(0, max(root_mse) * 1.1)\n"
   ]
  },
  {
   "cell_type": "markdown",
   "id": "f97796c2",
   "metadata": {},
   "source": [
    "### Q7: Data Science Ethics\n",
    "*Please read the following examples [Click here to read the example_1.](https://www.vox.com/covid-19-coronavirus-us-response-trump/2020/5/18/21262265/georgia-covid-19-cases-declining-reopening) [Click here to read the example_2.](https://viborc.com/ethics-and-ethical-data-visualization-a-complete-guide/)\n",
    "\n",
    "*Then view the picture ![My Image](figure_portfolio2.png \"This is my image\")\n",
    "Please compose an analysis of 100-200 words that evaluates potential ethical concerns associated with the infographic, detailing the reasons behind these issues.\n"
   ]
  },
  {
   "cell_type": "markdown",
   "id": "f40ce52b-5b43-47e2-9883-1244f587b06f",
   "metadata": {},
   "source": [
    "Fairness and representation bias are two possible ethical issues with the infographic on the medal distribution from the 2008 Olympics.The medal distribution from the 2008 Olympics is shown in the image above, which is arranged by both gold and total medals. Table 1 mostly highlights achievements of larger nations, such as China and the United States, which may obscure those of smaller nations. This could be interpreted as teaching people that large nations are infallible while ignoring the efforts made by athletes from smaller nations. Table 2 primarily highlights the gold medals that each country has won. This could be interpreted as undervaluing the athletes' achievements in winning the silver and bronze medals. This demonstrates that the athletes who took home silver or bronze were treated unfairly."
   ]
  },
  {
   "cell_type": "code",
   "execution_count": null,
   "id": "8b3dcc49-1b8e-45d5-9952-99fcb281268d",
   "metadata": {},
   "outputs": [],
   "source": []
  }
 ],
 "metadata": {
  "colab": {
   "provenance": []
  },
  "kernelspec": {
   "display_name": "Python 3 (ipykernel)",
   "language": "python",
   "name": "python3"
  },
  "language_info": {
   "codemirror_mode": {
    "name": "ipython",
    "version": 3
   },
   "file_extension": ".py",
   "mimetype": "text/x-python",
   "name": "python",
   "nbconvert_exporter": "python",
   "pygments_lexer": "ipython3",
   "version": "3.12.4"
  }
 },
 "nbformat": 4,
 "nbformat_minor": 5
}
